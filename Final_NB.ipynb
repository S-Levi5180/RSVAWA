{
 "cells": [
  {
   "cell_type": "code",
   "execution_count": 1,
   "id": "8b6ef7d1-641a-46f3-b78d-07270615d545",
   "metadata": {},
   "outputs": [
    {
     "name": "stdout",
     "output_type": "stream",
     "text": [
      "Done\n"
     ]
    }
   ],
   "source": [
    "import zipfile\n",
    "\n",
    "'''with zipfile.ZipFile(\"indian-sign-board-image-dataset.zip\", \"r\") as zip_ref:\n",
    "    zip_ref.extractall(\"dataset\")'''\n",
    "\n",
    "with zipfile.ZipFile(\"archive.zip\", \"r\") as zip_ref:\n",
    "    zip_ref.extractall(\"dataset1\")\n",
    "\n",
    "print('Done')"
   ]
  },
  {
   "cell_type": "code",
   "execution_count": 2,
   "id": "7fa2acca-18b3-48f9-a346-eaa36a3093e2",
   "metadata": {},
   "outputs": [
    {
     "name": "stdout",
     "output_type": "stream",
     "text": [
      "✅ Wrote 13971 entries to dataset1/processed_dataset1.csv\n",
      "Classes found: ['Give way' 'No entry' 'One-way traffic' 'No vehicles in both directions'\n",
      " 'No entry for cycles' 'No entry for goods vehicles'\n",
      " 'No entry for pedestrians' 'No entry for bullock carts'\n",
      " 'No entry for hand carts' 'No entry for motor vehicles' 'Height limit'\n",
      " 'Weight limit' 'Axle weight limit' 'Length limit' 'No left turn'\n",
      " 'No right turn' 'No overtaking' 'Maximum speed limit (90 km/h)'\n",
      " 'Maximum speed limit (110 km/h)' 'Horn prohibited' 'No parking'\n",
      " 'No stopping' 'Turn left' 'Turn right' 'Steep descent' 'Steep ascent'\n",
      " 'Narrow road' 'Narrow bridge' 'Unprotected quay' 'Road hump' 'Dip'\n",
      " 'Loose gravel' 'Falling rocks' 'Cattle' 'Crossroads' 'Side road junction'\n",
      " 'Oblique side road junction' 'T-junction' 'Y-junction'\n",
      " 'Staggered side road junction' 'Roundabout'\n",
      " 'Guarded level crossing ahead' 'Unguarded level crossing ahead'\n",
      " 'Level crossing countdown marker' 'Parking' 'Bus stop' 'First aid post'\n",
      " 'Telephone' 'Filling station' 'Hotel' 'Restaurant' 'Refreshments']\n"
     ]
    }
   ],
   "source": [
    "import os\n",
    "import pandas as pd\n",
    "\n",
    "# Paths (adjust if necessary)\n",
    "LABELS_CSV = \"dataset1/Indian-Traffic Sign-Dataset/traffic_sign.csv\"   # Contains columns: ClassId, Name\n",
    "IMAGES_ROOT = \"dataset1/Indian-Traffic Sign-Dataset/Images\"      # Subfolders named by ClassId\n",
    "OUTPUT_CSV = \"dataset1/processed_dataset1.csv\"\n",
    "\n",
    "# 1. Load ClassId → Name mapping\n",
    "mapping_df = pd.read_csv(LABELS_CSV, dtype={\"ClassId\": str})\n",
    "# Create dict: {'0': 'Speed_Limit_30', '1': 'Stop', ...}\n",
    "id_to_name = dict(zip(mapping_df[\"ClassId\"], mapping_df[\"Name\"]))\n",
    "\n",
    "# 2. Traverse image folders and build records\n",
    "records = []\n",
    "for class_id, name in id_to_name.items():\n",
    "    folder = os.path.join(IMAGES_ROOT, class_id)\n",
    "    if not os.path.isdir(folder):\n",
    "        continue\n",
    "    for fname in os.listdir(folder):\n",
    "        if not fname.lower().endswith((\".jpg\", \".png\")):\n",
    "            continue\n",
    "        # filename relative to IMAGES_ROOT\n",
    "        rel_path = os.path.join(class_id, fname)\n",
    "        records.append({\"filename\": rel_path, \"label\": name})\n",
    "\n",
    "# 3. Save to processed_dataset.csv\n",
    "df = pd.DataFrame(records, columns=[\"filename\", \"label\"])\n",
    "os.makedirs(os.path.dirname(OUTPUT_CSV), exist_ok=True)\n",
    "df.to_csv(OUTPUT_CSV, index=False)\n",
    "\n",
    "print(f\"✅ Wrote {len(df)} entries to {OUTPUT_CSV}\")\n",
    "print(\"Classes found:\", df[\"label\"].unique())"
   ]
  },
  {
   "cell_type": "code",
   "execution_count": 3,
   "id": "4d7dedcc-ebbe-422c-a339-6417170da818",
   "metadata": {},
   "outputs": [
    {
     "name": "stderr",
     "output_type": "stream",
     "text": [
      "Epoch 1/10: 100%|███████████████████████████████████████████████████████████████████████████████████████████████| 699/699 [05:20<00:00,  2.18it/s]\n"
     ]
    },
    {
     "name": "stdout",
     "output_type": "stream",
     "text": [
      "🧠 Epoch 1 - Loss: 1679.1290 | Accuracy: 34.02%\n"
     ]
    },
    {
     "name": "stderr",
     "output_type": "stream",
     "text": [
      "Epoch 2/10: 100%|███████████████████████████████████████████████████████████████████████████████████████████████| 699/699 [03:31<00:00,  3.30it/s]\n"
     ]
    },
    {
     "name": "stdout",
     "output_type": "stream",
     "text": [
      "🧠 Epoch 2 - Loss: 893.5116 | Accuracy: 60.93%\n"
     ]
    },
    {
     "name": "stderr",
     "output_type": "stream",
     "text": [
      "Epoch 3/10: 100%|███████████████████████████████████████████████████████████████████████████████████████████████| 699/699 [03:32<00:00,  3.29it/s]\n"
     ]
    },
    {
     "name": "stdout",
     "output_type": "stream",
     "text": [
      "🧠 Epoch 3 - Loss: 681.9033 | Accuracy: 69.69%\n"
     ]
    },
    {
     "name": "stderr",
     "output_type": "stream",
     "text": [
      "Epoch 4/10: 100%|███████████████████████████████████████████████████████████████████████████████████████████████| 699/699 [03:30<00:00,  3.31it/s]\n"
     ]
    },
    {
     "name": "stdout",
     "output_type": "stream",
     "text": [
      "🧠 Epoch 4 - Loss: 554.6831 | Accuracy: 74.70%\n"
     ]
    },
    {
     "name": "stderr",
     "output_type": "stream",
     "text": [
      "Epoch 5/10: 100%|███████████████████████████████████████████████████████████████████████████████████████████████| 699/699 [03:37<00:00,  3.22it/s]\n"
     ]
    },
    {
     "name": "stdout",
     "output_type": "stream",
     "text": [
      "🧠 Epoch 5 - Loss: 478.5326 | Accuracy: 77.68%\n"
     ]
    },
    {
     "name": "stderr",
     "output_type": "stream",
     "text": [
      "Epoch 6/10: 100%|███████████████████████████████████████████████████████████████████████████████████████████████| 699/699 [04:13<00:00,  2.76it/s]\n"
     ]
    },
    {
     "name": "stdout",
     "output_type": "stream",
     "text": [
      "🧠 Epoch 6 - Loss: 421.2905 | Accuracy: 80.07%\n"
     ]
    },
    {
     "name": "stderr",
     "output_type": "stream",
     "text": [
      "Epoch 7/10: 100%|███████████████████████████████████████████████████████████████████████████████████████████████| 699/699 [03:43<00:00,  3.13it/s]\n"
     ]
    },
    {
     "name": "stdout",
     "output_type": "stream",
     "text": [
      "🧠 Epoch 7 - Loss: 381.6419 | Accuracy: 82.01%\n"
     ]
    },
    {
     "name": "stderr",
     "output_type": "stream",
     "text": [
      "Epoch 8/10: 100%|███████████████████████████████████████████████████████████████████████████████████████████████| 699/699 [03:39<00:00,  3.18it/s]\n"
     ]
    },
    {
     "name": "stdout",
     "output_type": "stream",
     "text": [
      "🧠 Epoch 8 - Loss: 336.1721 | Accuracy: 83.60%\n"
     ]
    },
    {
     "name": "stderr",
     "output_type": "stream",
     "text": [
      "Epoch 9/10: 100%|███████████████████████████████████████████████████████████████████████████████████████████████| 699/699 [03:31<00:00,  3.30it/s]\n"
     ]
    },
    {
     "name": "stdout",
     "output_type": "stream",
     "text": [
      "🧠 Epoch 9 - Loss: 309.5003 | Accuracy: 85.09%\n"
     ]
    },
    {
     "name": "stderr",
     "output_type": "stream",
     "text": [
      "Epoch 10/10: 100%|██████████████████████████████████████████████████████████████████████████████████████████████| 699/699 [03:25<00:00,  3.41it/s]\n"
     ]
    },
    {
     "name": "stdout",
     "output_type": "stream",
     "text": [
      "🧠 Epoch 10 - Loss: 290.3202 | Accuracy: 86.05%\n",
      "✅ Validation Accuracy: 84.11%\n"
     ]
    }
   ],
   "source": [
    "import os\n",
    "import pandas as pd\n",
    "import numpy as np\n",
    "from PIL import Image\n",
    "from sklearn.model_selection import train_test_split\n",
    "from sklearn.preprocessing import LabelEncoder\n",
    "\n",
    "import torch\n",
    "import torch.nn as nn\n",
    "import torch.optim as optim\n",
    "from torchvision import transforms\n",
    "from torch.utils.data import Dataset, DataLoader\n",
    "from tqdm import tqdm\n",
    "\n",
    "# Config\n",
    "IMG_SIZE = 128\n",
    "CSV_PATH = \"dataset1/processed_dataset1.csv\"\n",
    "IMG_DIR = \"dataset1/Indian-Traffic Sign-Dataset/Images\"\n",
    "BATCH_SIZE = 16\n",
    "EPOCHS = 10\n",
    "DEVICE = torch.device(\"cuda\" if torch.cuda.is_available() else \"cpu\")\n",
    "\n",
    "# Load CSV\n",
    "df = pd.read_csv(CSV_PATH)\n",
    "df = df.drop_duplicates(subset=\"filename\")\n",
    "\n",
    "# Encode labels\n",
    "le = LabelEncoder()\n",
    "df[\"label_enc\"] = le.fit_transform(df[\"label\"])\n",
    "num_classes = len(le.classes_)\n",
    "\n",
    "# Train/Test Split\n",
    "train_df, val_df = train_test_split(df, test_size=0.2, random_state=42)\n",
    "\n",
    "# Dataset Class\n",
    "class TrafficSignDataset(Dataset):\n",
    "    def __init__(self, dataframe, img_dir, transform=None):\n",
    "        self.df = dataframe.reset_index(drop=True)\n",
    "        self.img_dir = img_dir\n",
    "        self.transform = transform\n",
    "\n",
    "    def __len__(self):\n",
    "        return len(self.df)\n",
    "\n",
    "    def __getitem__(self, idx):\n",
    "        img_path = os.path.join(self.img_dir, self.df.loc[idx, 'filename'])\n",
    "        image = Image.open(img_path).convert('RGB')\n",
    "        label = int(self.df.loc[idx, 'label_enc'])\n",
    "\n",
    "        if self.transform:\n",
    "            image = self.transform(image)\n",
    "\n",
    "        return image, label\n",
    "\n",
    "# Transforms\n",
    "transform = transforms.Compose([\n",
    "    transforms.Resize((IMG_SIZE, IMG_SIZE)),\n",
    "    transforms.ToTensor(),\n",
    "])\n",
    "\n",
    "# Datasets and Dataloaders\n",
    "train_dataset = TrafficSignDataset(train_df, IMG_DIR, transform=transform)\n",
    "val_dataset = TrafficSignDataset(val_df, IMG_DIR, transform=transform)\n",
    "\n",
    "train_loader = DataLoader(train_dataset, batch_size=BATCH_SIZE, shuffle=True)\n",
    "val_loader = DataLoader(val_dataset, batch_size=BATCH_SIZE, shuffle=False)\n",
    "\n",
    "# CNN Model\n",
    "class CNNModel(nn.Module):\n",
    "    def __init__(self, num_classes):\n",
    "        super(CNNModel, self).__init__()\n",
    "        self.model = nn.Sequential(\n",
    "            nn.Conv2d(3, 32, 3, padding=1), nn.ReLU(), nn.MaxPool2d(2),\n",
    "            nn.Conv2d(32, 64, 3, padding=1), nn.ReLU(), nn.MaxPool2d(2),\n",
    "            nn.Conv2d(64, 128, 3, padding=1), nn.ReLU(), nn.MaxPool2d(2),\n",
    "            nn.Flatten(),\n",
    "            nn.Linear(128 * (IMG_SIZE // 8) * (IMG_SIZE // 8), 128),\n",
    "            nn.ReLU(),\n",
    "            nn.Dropout(0.3),\n",
    "            nn.Linear(128, num_classes)\n",
    "        )\n",
    "\n",
    "    def forward(self, x):\n",
    "        return self.model(x)\n",
    "\n",
    "# Initialize Model\n",
    "model = CNNModel(num_classes).to(DEVICE)\n",
    "criterion = nn.CrossEntropyLoss()\n",
    "optimizer = optim.Adam(model.parameters(), lr=0.001)\n",
    "\n",
    "# Training Loop\n",
    "for epoch in range(EPOCHS):\n",
    "    model.train()\n",
    "    running_loss = 0.0\n",
    "    correct = 0\n",
    "    total = 0\n",
    "\n",
    "    for images, labels in tqdm(train_loader, desc=f\"Epoch {epoch+1}/{EPOCHS}\"):\n",
    "        images, labels = images.to(DEVICE), labels.to(DEVICE)\n",
    "\n",
    "        outputs = model(images)\n",
    "        loss = criterion(outputs, labels)\n",
    "\n",
    "        optimizer.zero_grad()\n",
    "        loss.backward()\n",
    "        optimizer.step()\n",
    "\n",
    "        running_loss += loss.item()\n",
    "        _, predicted = torch.max(outputs.data, 1)\n",
    "        total += labels.size(0)\n",
    "        correct += (predicted == labels).sum().item()\n",
    "\n",
    "    train_acc = 100 * correct / total\n",
    "    print(f\"🧠 Epoch {epoch+1} - Loss: {running_loss:.4f} | Accuracy: {train_acc:.2f}%\")\n",
    "\n",
    "# Evaluation\n",
    "model.eval()\n",
    "correct = 0\n",
    "total = 0\n",
    "\n",
    "with torch.no_grad():\n",
    "    for images, labels in val_loader:\n",
    "        images, labels = images.to(DEVICE), labels.to(DEVICE)\n",
    "        outputs = model(images)\n",
    "        _, predicted = torch.max(outputs.data, 1)\n",
    "        total += labels.size(0)\n",
    "        correct += (predicted == labels).sum().item()\n",
    "\n",
    "val_acc = 100 * correct / total\n",
    "print(f\"✅ Validation Accuracy: {val_acc:.2f}%\")"
   ]
  },
  {
   "cell_type": "code",
   "execution_count": 4,
   "id": "ffd280a8-9336-4fd1-b79a-5b554907820f",
   "metadata": {},
   "outputs": [
    {
     "name": "stdout",
     "output_type": "stream",
     "text": [
      "Done\n"
     ]
    }
   ],
   "source": [
    "# Save the trained entire model\n",
    "torch.save(model, \"model.pth\")\n",
    "\n",
    "# or Save the trained model weights\n",
    "torch.save(model.state_dict(), \"model_weights.pth\")\n",
    "print('Done')"
   ]
  }
 ],
 "metadata": {
  "kernelspec": {
   "display_name": "rsr",
   "language": "python",
   "name": "rsr"
  },
  "language_info": {
   "codemirror_mode": {
    "name": "ipython",
    "version": 3
   },
   "file_extension": ".py",
   "mimetype": "text/x-python",
   "name": "python",
   "nbconvert_exporter": "python",
   "pygments_lexer": "ipython3",
   "version": "3.11.5"
  }
 },
 "nbformat": 4,
 "nbformat_minor": 5
}
